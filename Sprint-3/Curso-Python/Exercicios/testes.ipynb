{
 "cells": [
  {
   "cell_type": "code",
   "execution_count": null,
   "metadata": {},
   "outputs": [],
   "source": [
    "#atividade 1\n",
    "\n",
    "import datetime\n",
    "\n",
    "nome = str(input('Digite seu nome'))\n",
    "idade = int(input('Digite sua idade'))\n",
    "\n",
    "currentDateTime = datetime.datetime.now()\n",
    "date = currentDateTime.date()\n",
    "restante = 100 - idade\n",
    "ano = int(date.strftime(\"%Y\")) + restante\n",
    "print(ano)"
   ]
  },
  {
   "cell_type": "code",
   "execution_count": null,
   "metadata": {},
   "outputs": [],
   "source": [
    "# atividade 2\n",
    "cont = []\n",
    "for num in range(3):\n",
    "    if len(cont) == 0 : \n",
    "        num = int(input(\"Insira um valor\"))\n",
    "        num = cont.append(num)\n",
    "    else:\n",
    "        num = int(input(\"Insira mais um valor\"))\n",
    "        num = cont.append(num)\n",
    "\n",
    "def impar_par(num):\n",
    "    if num%2 == 0:\n",
    "        return print(f'Par: {num}')\n",
    "    else:\n",
    "       return print(f'Ímpar: {num}')\n",
    "\n",
    "num1 = impar_par(cont[0])\n",
    "num2 = impar_par(cont[1])\n",
    "num3 = impar_par(cont[2])"
   ]
  },
  {
   "cell_type": "code",
   "execution_count": null,
   "metadata": {},
   "outputs": [],
   "source": [
    "# atividade 3\n",
    "lista = []\n",
    "for i in range(21):\n",
    "    if i%2 == 0:\n",
    "        lista.append(i)\n",
    "        print(i)\n",
    "    else:\n",
    "        lista.pop"
   ]
  },
  {
   "cell_type": "code",
   "execution_count": null,
   "metadata": {},
   "outputs": [],
   "source": [
    "# atividade 4\n",
    "primos = []\n",
    "for num in range(2, 101):\n",
    "    # verificando se o número é primo\n",
    "    for i in range(2, num):\n",
    "        if (num % i) == 0:\n",
    "            break\n",
    "    else:\n",
    "        primos.append(num)\n",
    "        print(num)"
   ]
  },
  {
   "cell_type": "code",
   "execution_count": null,
   "metadata": {},
   "outputs": [],
   "source": [
    "# atividade 5\n",
    "dia = 22\n",
    "mes = 10\n",
    "ano = 2022\n",
    "print(f'{str(dia)}/{str(mes)}/{str(ano)}')\n"
   ]
  },
  {
   "cell_type": "code",
   "execution_count": null,
   "metadata": {},
   "outputs": [],
   "source": [
    "# atividade 6\n",
    "a = [1, 1, 2, 3, 5, 8, 14, 21, 34, 55, 89]\n",
    "b = [1, 2, 3, 4, 5, 6, 7, 8, 9, 10, 11, 12, 13, 14, 15]\n",
    "\n",
    "##Transformei as listas em conjuntos e fiz uma interceção entre elas usando o '&' e o resultado transformei em lista novamente.\n",
    "nova_lista = list(set(a) & set(b))\n",
    "\n",
    "print(nova_lista)"
   ]
  },
  {
   "cell_type": "code",
   "execution_count": 28,
   "metadata": {},
   "outputs": [
    {
     "name": "stdout",
     "output_type": "stream",
     "text": [
      "[1, 9, 25, 49, 81]\n"
     ]
    }
   ],
   "source": [
    "#atividade 7\n",
    "a = [1, 4, 9, 16, 25, 36, 49, 64, 81, 100]\n",
    "\n",
    "b = [x for x in a if x % 2 != 0]\n",
    "print(b)\n",
    "\n"
   ]
  },
  {
   "cell_type": "code",
   "execution_count": 29,
   "metadata": {},
   "outputs": [
    {
     "name": "stdout",
     "output_type": "stream",
     "text": [
      "A palavra: maça não é um palíndromo\n",
      "A palavra: arara é um palíndromo\n",
      "A palavra: audio não é um palíndromo\n",
      "A palavra: radio não é um palíndromo\n",
      "A palavra: radar é um palíndromo\n",
      "A palavra: moto não é um palíndromo\n"
     ]
    }
   ],
   "source": [
    "#atividade 8\n",
    "a = ['maça', 'arara', 'audio', 'radio', 'radar', 'moto']\n",
    "\n",
    "for str in a:\n",
    "    if str == str[::-1]:\n",
    "        print(f'A palavra: {str} é um palíndromo')\n",
    "    else:\n",
    "        print(f'A palavra: {str} não é um palíndromo')"
   ]
  },
  {
   "cell_type": "code",
   "execution_count": 9,
   "metadata": {},
   "outputs": [
    {
     "name": "stdout",
     "output_type": "stream",
     "text": [
      "0 - Joao Soares está com 19 anos\n",
      "1 - Douglas Souza está com 28 anos\n",
      "2 - Lucas Silveira está com 25 anos\n",
      "3 - José Pedreira está com 31 anos\n"
     ]
    }
   ],
   "source": [
    "#atividade 9\n",
    "\n",
    "primeirosNomes = ['Joao', 'Douglas', 'Lucas', 'José']\n",
    "sobreNomes = ['Soares', 'Souza', 'Silveira', 'Pedreira']\n",
    "idades = [19, 28, 25, 31]\n",
    "\n",
    "for key, i in enumerate(primeirosNomes):\n",
    "    sobrenome = sobreNomes[key]\n",
    "    idade = idades[key]\n",
    "\n",
    "    print(f'{key} - {i} {sobrenome} está com {idade} anos' )"
   ]
  },
  {
   "cell_type": "code",
   "execution_count": 24,
   "metadata": {},
   "outputs": [
    {
     "name": "stdout",
     "output_type": "stream",
     "text": [
      "['123', 'abc']\n"
     ]
    }
   ],
   "source": [
    "# exercicio 10\n",
    "lista = ['abc', 'abc', 'abc', '123', 'abc', '123', '123']\n",
    "print (sorted(set(lista)))\n"
   ]
  },
  {
   "cell_type": "code",
   "execution_count": 44,
   "metadata": {},
   "outputs": [
    {
     "name": "stdout",
     "output_type": "stream",
     "text": [
      "Este conteÃºdo estÃ¡ em \n",
      "um\n",
      "arquivo\n",
      "de texto.\n"
     ]
    }
   ],
   "source": [
    "#exercicio 11\n",
    "\n",
    "#Comando para criar o arquivo:\n",
    "arquivo = open(\"arquivo_texto.txt\", \"w\")\n",
    "arquivo.write('Este conteúdo está em \\num\\narquivo\\nde texto.')\n",
    "arquivo.close()\n",
    "\n",
    "#Comandos para ler o arquivo\n",
    "arquivo = open(\"arquivo_texto.txt\")\n",
    "print(arquivo.read())\n"
   ]
  },
  {
   "cell_type": "code",
   "execution_count": 47,
   "metadata": {},
   "outputs": [
    {
     "name": "stdout",
     "output_type": "stream",
     "text": [
      "{'name': 'Fulano Da Silva', 'endereco': 'Rua Sem Nome, 31', 'startDateExecution': '2019-06-25 16:25:23.233', 'endDateExecution': '2019-06-25 16:25:23.331', 'siteId': 'BrasilDesktop', 'sitePage': '/', 'serverName': 'AS1332:10181', 'profileId': '8947071299', 'type': 'JSP_RENDERING', 'path': 'testado/com', 'performanceType': 'JSP_RENDERING'}\n"
     ]
    }
   ],
   "source": [
    "# exercicio 12\n",
    "import json \n",
    "\n",
    "#abrindo o arquivo\n",
    "abrir = open(\"person.json\", \"r\")\n",
    "\n",
    "#carregando as informações do arquivo usando um modulo de json\n",
    "arq = json.load(abrir)\n",
    "print(arq)"
   ]
  },
  {
   "cell_type": "code",
   "execution_count": 65,
   "metadata": {},
   "outputs": [
    {
     "name": "stdout",
     "output_type": "stream",
     "text": [
      "[1, 4, 9, 16, 25, 36, 49, 64, 81, 100]\n"
     ]
    }
   ],
   "source": [
    "# exercicio 13\n",
    "list = [1, 2, 3, 4, 5, 6, 7, 8, 9, 10]\n",
    "\n",
    "def my_map(list, i):\n",
    "    return [i(x) for x in list]\n",
    "\n",
    "potencia = lambda x: x**2\n",
    "     \n",
    "resultado = my_map(list,potencia)\n",
    "\n",
    "print(resultado)"
   ]
  },
  {
   "cell_type": "code",
   "execution_count": 86,
   "metadata": {},
   "outputs": [
    {
     "name": "stdout",
     "output_type": "stream",
     "text": [
      "1\n",
      "3\n",
      "4\n",
      "hello\n",
      "alguma coisa\n",
      "20\n"
     ]
    }
   ],
   "source": [
    "#exercicio 14\n",
    "\n",
    "def func(*args, **kwargs):\n",
    "    for x in args:\n",
    "        print(x)\n",
    "    for key, value in kwargs.items():\n",
    "        print(value)\n",
    "\n",
    "func(1, 3, 4, 'hello', parametro_nomeado ='alguma coisa', x=20)"
   ]
  },
  {
   "cell_type": "code",
   "execution_count": null,
   "metadata": {},
   "outputs": [],
   "source": [
    "#exercicio 15\n",
    "\n"
   ]
  },
  {
   "cell_type": "code",
   "execution_count": 97,
   "metadata": {},
   "outputs": [
    {
     "name": "stdout",
     "output_type": "stream",
     "text": [
      "100\n"
     ]
    }
   ],
   "source": [
    "#exercicio 16\n",
    "\n",
    "def func(x):\n",
    "    separar_itens = x.split(\",\")\n",
    "    soma = sum(int(item) for item in separar_itens)\n",
    "    return soma\n",
    "string = \"1,3,4,6,10,76\"\n",
    "\n",
    "print(f'{func(string)}')"
   ]
  },
  {
   "cell_type": "code",
   "execution_count": 111,
   "metadata": {},
   "outputs": [
    {
     "name": "stdout",
     "output_type": "stream",
     "text": [
      "[1, 2, 3, 4][5, 6, 7, 8][9, 10, 11, 12]\n",
      "\n"
     ]
    }
   ],
   "source": [
    "#exercicio 17\n",
    "\n",
    "def func(list):\n",
    "    parte = (len(lista))//3\n",
    "    list1 = list[:parte]\n",
    "    list2 = list[parte:2*parte] \n",
    "    list3 = list[2*parte:]\n",
    "    print(f'{list1} {list2} {list3}')\n",
    "\n",
    "lista = [1, 2, 3, 4, 5, 6, 7, 8, 9, 10, 11, 12]\n",
    "\n",
    "func(lista)"
   ]
  },
  {
   "cell_type": "code",
   "execution_count": 120,
   "metadata": {},
   "outputs": [
    {
     "ename": "TypeError",
     "evalue": "'list' object is not callable",
     "output_type": "error",
     "traceback": [
      "\u001b[1;31m---------------------------------------------------------------------------\u001b[0m",
      "\u001b[1;31mTypeError\u001b[0m                                 Traceback (most recent call last)",
      "Cell \u001b[1;32mIn[120], line 5\u001b[0m\n\u001b[0;32m      1\u001b[0m \u001b[39m# exercicio 18\u001b[39;00m\n\u001b[0;32m      3\u001b[0m speed \u001b[39m=\u001b[39m {\u001b[39m'\u001b[39m\u001b[39mjan\u001b[39m\u001b[39m'\u001b[39m:\u001b[39m47\u001b[39m, \u001b[39m'\u001b[39m\u001b[39mfeb\u001b[39m\u001b[39m'\u001b[39m:\u001b[39m52\u001b[39m, \u001b[39m'\u001b[39m\u001b[39mmarch\u001b[39m\u001b[39m'\u001b[39m:\u001b[39m47\u001b[39m, \u001b[39m'\u001b[39m\u001b[39mApril\u001b[39m\u001b[39m'\u001b[39m:\u001b[39m44\u001b[39m, \u001b[39m'\u001b[39m\u001b[39mMay\u001b[39m\u001b[39m'\u001b[39m:\u001b[39m52\u001b[39m, \u001b[39m'\u001b[39m\u001b[39mJune\u001b[39m\u001b[39m'\u001b[39m:\u001b[39m53\u001b[39m, \u001b[39m'\u001b[39m\u001b[39mjuly\u001b[39m\u001b[39m'\u001b[39m:\u001b[39m54\u001b[39m, \u001b[39m'\u001b[39m\u001b[39mAug\u001b[39m\u001b[39m'\u001b[39m:\u001b[39m44\u001b[39m, \u001b[39m'\u001b[39m\u001b[39mSept\u001b[39m\u001b[39m'\u001b[39m:\u001b[39m54\u001b[39m}\n\u001b[1;32m----> 5\u001b[0m lista_nova \u001b[39m=\u001b[39m \u001b[39mlist\u001b[39;49m(\u001b[39mset\u001b[39;49m(speed\u001b[39m.\u001b[39;49mvalues()))\n\u001b[0;32m      7\u001b[0m \u001b[39mprint\u001b[39m(lista_nova)\n",
      "\u001b[1;31mTypeError\u001b[0m: 'list' object is not callable"
     ]
    }
   ],
   "source": [
    "# exercicio 18\n",
    "\n",
    "speed = {'jan':47, 'feb':52, 'march':47, 'April':44, 'May':52, 'June':53, 'july':54, 'Aug':44, 'Sept':54}\n",
    "\n",
    "lista_nova = list(set(speed.values()))\n",
    "\n",
    "print(lista_nova)\n",
    "\n",
    "\n",
    "\n",
    "\n",
    "\n",
    "\n"
   ]
  },
  {
   "cell_type": "code",
   "execution_count": 3,
   "metadata": {},
   "outputs": [
    {
     "name": "stdout",
     "output_type": "stream",
     "text": [
      "Media: 235.76, Mediana: 219.0, Mínimo: 2, Máximo: 477\n"
     ]
    }
   ],
   "source": [
    "#exercicio 19\n",
    "import random\n",
    "import statistics\n",
    "\n",
    "random_list = random.sample(range(500), 50)\n",
    "\n",
    "mediana = statistics.median(sorted(random_list))\n",
    "media = sum(set(random_list))/50 \n",
    "valor_minimo = min(set(random_list))\n",
    "valor_maximo = max(set(random_list))\n",
    "\n",
    "print(f'Media: {media}, Mediana: {mediana}, Mínimo: {valor_minimo}, Máximo: {valor_maximo}')"
   ]
  },
  {
   "cell_type": "code",
   "execution_count": 155,
   "metadata": {},
   "outputs": [
    {
     "name": "stdout",
     "output_type": "stream",
     "text": [
      "[89, 55, 34, 21, 13, 8, 5, 3, 2, 0, 1]\n"
     ]
    }
   ],
   "source": [
    "\n",
    "a = [1, 0, 2, 3, 5, 8, 13, 21, 34, 55, 89]\n",
    "\n",
    "print(a[::-1])"
   ]
  },
  {
   "cell_type": "code",
   "execution_count": 18,
   "metadata": {},
   "outputs": [],
   "source": [
    "with open(\"DESAFIO-ETL/actors.csv\", \"r\") as csv:\n",
    "  arquivo = csv.readlines()\n",
    "  \n",
    "\n",
    "# carrega cada linha\n",
    "for linha in linhas:\n",
    "# divide em colunas\n",
    "   colunas = linha.replace(\"\\\"Robert Downey, Jr.\\\"\", \"Robert Downey Jr.\").split(',')\n",
    "   ator = colunas[0]\n",
    "   Total_bruto = colunas[1]\n",
    "   N_filmes = (colunas[2])\n",
    "   media_filme = (colunas[3])\n",
    "   primeiro_filme = colunas[4]\n",
    "   bruto = (colunas[5])\n",
    "   \n",
    "\n",
    "# Actor,Total Gross,Number of Movies,Average per Movie,#1 Movie,Gross\n",
    "\n",
    "#extrair pessoa com maior numero de filmes e o respectivo números de filmes\n",
    "\n",
    "\n",
    "   print(f'{ator} {(N_filmes)}')\n",
    "\n",
    "#   linha = separar[2]\n",
    "#  for line in f.readlines():\n",
    "   #  print(linha)\n"
   ]
  },
  {
   "cell_type": "code",
   "execution_count": 34,
   "metadata": {},
   "outputs": [
    {
     "name": "stdout",
     "output_type": "stream",
     "text": [
      "Harrison Ford 41\n",
      "Samuel L. Jackson 69\n",
      "Morgan Freeman 61\n",
      "Tom Hanks 44\n",
      "Robert Downey Jr. 53\n",
      "Eddie Murphy 38\n",
      "Tom Cruise 36\n",
      "Johnny Depp 45\n",
      "Michael Caine 58\n",
      "Scarlett Johansson 37\n",
      "Gary Oldman 38\n",
      "Robin Williams 49\n",
      "Bruce Willis 60\n",
      "Stellan Skarsgard 43\n",
      "Anthony Daniels 7\n",
      "Ian McKellen 31\n",
      "Will Smith 24\n",
      "Stanley Tucci 50\n",
      "Matt Damon 39\n",
      "Robert DeNiro 79\n",
      "Cameron Diaz 34\n",
      "Liam Neeson 63\n",
      "Andy Serkis 23\n",
      "Don Cheadle 34\n",
      "Ben Stiller 37\n",
      "Helena Bonham Carter 36\n",
      "Orlando Bloom 17\n",
      "Woody Harrelson 50\n",
      "Cate Blanchett 39\n",
      "Julia Roberts 42\n",
      "Elizabeth Banks 35\n",
      "Ralph Fiennes 36\n",
      "Emma Watson 17\n",
      "Tommy Lee Jones 46\n",
      "Brad Pitt 40\n",
      "Adam Sandler 32\n",
      "Daniel Radcliffe 17\n",
      "Jonah Hill 29\n",
      "Owen Wilson 39\n",
      "Idris Elba 26\n",
      "Bradley Cooper 25\n",
      "Mark Wahlberg 36\n",
      "Jim Carrey 27\n",
      "Dustin Hoffman 43\n",
      "Leonardo DiCaprio 25\n",
      "Jeremy Renner 21\n",
      "Philip Seymour Hoffman 40\n",
      "Sandra Bullock 35\n",
      "Chris Evans 23\n",
      "Anne Hathaway 25\n"
     ]
    }
   ],
   "source": [
    "#ETL\n",
    "with open(\"DESAFIO-ETL/actors.csv\", \"r\") as csv:\n",
    "  arquivo = csv.readlines()\n",
    "  \n",
    "\n",
    "# carrega cada linha\n",
    "for linha in linhas:\n",
    "# divide em colunas\n",
    "   colunas = linha.replace(\"\\\"Robert Downey, Jr.\\\"\", \"Robert Downey Jr.\").split(',')\n",
    "   ator = colunas[0]\n",
    "   Total_bruto = colunas[1]\n",
    "   N_filmes = int(colunas[2])\n",
    "   media_filme = (colunas[3])\n",
    "   primeiro_filme = colunas[4]\n",
    "   bruto = (colunas[5])\n",
    "   numero_mais_filmes = 1\n",
    "   if N_filmes > numero_mais_filmes:\n",
    "      numero_mais_filmes = N_filmes\n",
    "      \n",
    "\n",
    "\n",
    "# Actor,Total Gross,Number of Movies,Average per Movie,#1 Movie,Gross\n",
    "\n",
    "#extrair pessoa com maior numero de filmes e o respectivo números de filmes\n",
    "\n",
    "\n",
    "   print(f'{ator} {(numero_mais_filmes)}')\n",
    "\n",
    "#   linha = separar[2]\n",
    "#  for line in f.readlines():\n",
    "   #  print(linha)\n"
   ]
  }
 ],
 "metadata": {
  "kernelspec": {
   "display_name": "Python 3",
   "language": "python",
   "name": "python3"
  },
  "language_info": {
   "codemirror_mode": {
    "name": "ipython",
    "version": 3
   },
   "file_extension": ".py",
   "mimetype": "text/x-python",
   "name": "python",
   "nbconvert_exporter": "python",
   "pygments_lexer": "ipython3",
   "version": "3.10.2"
  },
  "orig_nbformat": 4,
  "vscode": {
   "interpreter": {
    "hash": "341268af697f69dd1ffdcdac7af840419ecb88f390bc16e46c3586102df69d04"
   }
  }
 },
 "nbformat": 4,
 "nbformat_minor": 2
}
